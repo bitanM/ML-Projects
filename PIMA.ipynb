{
  "nbformat": 4,
  "nbformat_minor": 0,
  "metadata": {
    "colab": {
      "provenance": [],
      "authorship_tag": "ABX9TyNDeuhUciyZr4LdOHk0hj4O",
      "include_colab_link": true
    },
    "kernelspec": {
      "name": "python3",
      "display_name": "Python 3"
    },
    "language_info": {
      "name": "python"
    }
  },
  "cells": [
    {
      "cell_type": "markdown",
      "metadata": {
        "id": "view-in-github",
        "colab_type": "text"
      },
      "source": [
        "<a href=\"https://colab.research.google.com/github/bitanM/ML-Projects/blob/main/PIMA.ipynb\" target=\"_parent\"><img src=\"https://colab.research.google.com/assets/colab-badge.svg\" alt=\"Open In Colab\"/></a>"
      ]
    },
    {
      "cell_type": "markdown",
      "source": [
        " Dataset used in this program: [Pima Indian Dataset](https://raw.githubusercontent.com/jbrownlee/Datasets/master/pima-indians-diabetes.data.csv)"
      ],
      "metadata": {
        "id": "xeG9vtuFvNy5"
      }
    },
    {
      "cell_type": "code",
      "execution_count": 1,
      "metadata": {
        "id": "wR-etk-hOTi0"
      },
      "outputs": [],
      "source": [
        "import torch.nn as nn\n",
        "import torch"
      ]
    },
    {
      "cell_type": "code",
      "source": [
        "model = nn.Sequential(\n",
        "    nn.Linear(8, 12),\n",
        "    nn.ReLU(),\n",
        "    nn.Linear(12, 20),\n",
        "    nn.ReLU(),\n",
        "    nn.Linear(20, 8),\n",
        "    nn.ReLU(),\n",
        "    nn.Linear(8, 1),\n",
        "    nn.Sigmoid()\n",
        ")"
      ],
      "metadata": {
        "id": "NFAg9vdtZFd5"
      },
      "execution_count": 5,
      "outputs": []
    },
    {
      "cell_type": "code",
      "source": [
        "print(model)"
      ],
      "metadata": {
        "colab": {
          "base_uri": "https://localhost:8080/"
        },
        "id": "SwWtUYm_c9sL",
        "outputId": "5015f5ae-4ad7-4805-c5b1-01caa26e704c"
      },
      "execution_count": 6,
      "outputs": [
        {
          "output_type": "stream",
          "name": "stdout",
          "text": [
            "Sequential(\n",
            "  (0): Linear(in_features=8, out_features=12, bias=True)\n",
            "  (1): ReLU()\n",
            "  (2): Linear(in_features=12, out_features=20, bias=True)\n",
            "  (3): ReLU()\n",
            "  (4): Linear(in_features=20, out_features=8, bias=True)\n",
            "  (5): ReLU()\n",
            "  (6): Linear(in_features=8, out_features=1, bias=True)\n",
            "  (7): Sigmoid()\n",
            ")\n"
          ]
        }
      ]
    },
    {
      "cell_type": "code",
      "source": [
        "import torch\n",
        "import numpy as np\n",
        "import torch.optim as optim"
      ],
      "metadata": {
        "id": "vD_AbvD9iUZC"
      },
      "execution_count": 7,
      "outputs": []
    },
    {
      "cell_type": "code",
      "source": [
        "dataset = np.loadtxt('/content/raw.githubusercontent.com_jbrownlee_Datasets_master_pima-indians-diabetes.data.csv', delimiter=',')"
      ],
      "metadata": {
        "id": "qKvIUDgXnbgx"
      },
      "execution_count": 9,
      "outputs": []
    },
    {
      "cell_type": "code",
      "source": [
        "X = dataset[:,0:8]\n",
        "Y = dataset[:, 8]\n",
        "\n",
        "X = torch.tensor(X, dtype=torch.float32)\n",
        "Y = torch.tensor(Y, dtype=torch.float32).reshape(-1, 1)"
      ],
      "metadata": {
        "id": "qhRRkBsvn6MM"
      },
      "execution_count": 10,
      "outputs": []
    },
    {
      "cell_type": "code",
      "source": [
        "loss_fn = nn.BCELoss()\n",
        "optimizer = optim.Adam(model.parameters(), lr=0.001)"
      ],
      "metadata": {
        "id": "fJaPn8TFoU3A"
      },
      "execution_count": 11,
      "outputs": []
    },
    {
      "cell_type": "code",
      "source": [
        "n_epochs = 100\n",
        "batch_size = 10\n",
        "for epoch in range(n_epochs):\n",
        "  for i in range(0, len(X), batch_size):\n",
        "    Xbatch = X[i:i+batch_size]\n",
        "    y_pred = model(Xbatch)\n",
        "    y_batch = Y[i:i+batch_size]\n",
        "    loss = loss_fn(y_pred, y_batch)\n",
        "    optimizer.zero_grad()\n",
        "    loss.backward()\n",
        "    optimizer.step()\n",
        "  print(f'Finished epoch {epoch}, latest loss {loss}')"
      ],
      "metadata": {
        "colab": {
          "base_uri": "https://localhost:8080/"
        },
        "id": "r1pPHNk-ohZd",
        "outputId": "5071b96d-f5eb-41dd-f2be-1ef7f0fa272a"
      },
      "execution_count": 13,
      "outputs": [
        {
          "output_type": "stream",
          "name": "stdout",
          "text": [
            "Finished epoch 0, latest loss 0.6245163679122925\n",
            "Finished epoch 1, latest loss 0.6007929444313049\n",
            "Finished epoch 2, latest loss 0.5754959583282471\n",
            "Finished epoch 3, latest loss 0.5574433207511902\n",
            "Finished epoch 4, latest loss 0.5369991660118103\n",
            "Finished epoch 5, latest loss 0.5175461173057556\n",
            "Finished epoch 6, latest loss 0.5011070966720581\n",
            "Finished epoch 7, latest loss 0.483550488948822\n",
            "Finished epoch 8, latest loss 0.474069207906723\n",
            "Finished epoch 9, latest loss 0.45745041966438293\n",
            "Finished epoch 10, latest loss 0.4488714337348938\n",
            "Finished epoch 11, latest loss 0.43629154562950134\n",
            "Finished epoch 12, latest loss 0.4403757154941559\n",
            "Finished epoch 13, latest loss 0.4114653468132019\n",
            "Finished epoch 14, latest loss 0.4016915559768677\n",
            "Finished epoch 15, latest loss 0.4037916362285614\n",
            "Finished epoch 16, latest loss 0.3902789056301117\n",
            "Finished epoch 17, latest loss 0.39457717537879944\n",
            "Finished epoch 18, latest loss 0.39624112844467163\n",
            "Finished epoch 19, latest loss 0.3993526101112366\n",
            "Finished epoch 20, latest loss 0.3912922441959381\n",
            "Finished epoch 21, latest loss 0.3899538218975067\n",
            "Finished epoch 22, latest loss 0.38085466623306274\n",
            "Finished epoch 23, latest loss 0.393889844417572\n",
            "Finished epoch 24, latest loss 0.3864729404449463\n",
            "Finished epoch 25, latest loss 0.38520392775535583\n",
            "Finished epoch 26, latest loss 0.3933194577693939\n",
            "Finished epoch 27, latest loss 0.39459165930747986\n",
            "Finished epoch 28, latest loss 0.37491822242736816\n",
            "Finished epoch 29, latest loss 0.3780812919139862\n",
            "Finished epoch 30, latest loss 0.3845421373844147\n",
            "Finished epoch 31, latest loss 0.36456966400146484\n",
            "Finished epoch 32, latest loss 0.3587561547756195\n",
            "Finished epoch 33, latest loss 0.362994909286499\n",
            "Finished epoch 34, latest loss 0.3693739175796509\n",
            "Finished epoch 35, latest loss 0.35225749015808105\n",
            "Finished epoch 36, latest loss 0.35591238737106323\n",
            "Finished epoch 37, latest loss 0.364609032869339\n",
            "Finished epoch 38, latest loss 0.34871286153793335\n",
            "Finished epoch 39, latest loss 0.36161747574806213\n",
            "Finished epoch 40, latest loss 0.34670284390449524\n",
            "Finished epoch 41, latest loss 0.34159231185913086\n",
            "Finished epoch 42, latest loss 0.335697203874588\n",
            "Finished epoch 43, latest loss 0.3387884795665741\n",
            "Finished epoch 44, latest loss 0.3289795219898224\n",
            "Finished epoch 45, latest loss 0.3216295838356018\n",
            "Finished epoch 46, latest loss 0.32869377732276917\n",
            "Finished epoch 47, latest loss 0.31775906682014465\n",
            "Finished epoch 48, latest loss 0.3395586311817169\n",
            "Finished epoch 49, latest loss 0.3166707456111908\n",
            "Finished epoch 50, latest loss 0.3029826283454895\n",
            "Finished epoch 51, latest loss 0.33203211426734924\n",
            "Finished epoch 52, latest loss 0.3059670329093933\n",
            "Finished epoch 53, latest loss 0.3078102469444275\n",
            "Finished epoch 54, latest loss 0.3263885974884033\n",
            "Finished epoch 55, latest loss 0.30888766050338745\n",
            "Finished epoch 56, latest loss 0.327744722366333\n",
            "Finished epoch 57, latest loss 0.3175273537635803\n",
            "Finished epoch 58, latest loss 0.30371204018592834\n",
            "Finished epoch 59, latest loss 0.32579371333122253\n",
            "Finished epoch 60, latest loss 0.31655606627464294\n",
            "Finished epoch 61, latest loss 0.29579147696495056\n",
            "Finished epoch 62, latest loss 0.32093381881713867\n",
            "Finished epoch 63, latest loss 0.32643938064575195\n",
            "Finished epoch 64, latest loss 0.32866978645324707\n",
            "Finished epoch 65, latest loss 0.3226490914821625\n",
            "Finished epoch 66, latest loss 0.31823641061782837\n",
            "Finished epoch 67, latest loss 0.3210412859916687\n",
            "Finished epoch 68, latest loss 0.3200021982192993\n",
            "Finished epoch 69, latest loss 0.3240317106246948\n",
            "Finished epoch 70, latest loss 0.31849825382232666\n",
            "Finished epoch 71, latest loss 0.3132598102092743\n",
            "Finished epoch 72, latest loss 0.3177644908428192\n",
            "Finished epoch 73, latest loss 0.31405290961265564\n",
            "Finished epoch 74, latest loss 0.3013674318790436\n",
            "Finished epoch 75, latest loss 0.29134517908096313\n",
            "Finished epoch 76, latest loss 0.3066259026527405\n",
            "Finished epoch 77, latest loss 0.30166488885879517\n",
            "Finished epoch 78, latest loss 0.30056557059288025\n",
            "Finished epoch 79, latest loss 0.3034760653972626\n",
            "Finished epoch 80, latest loss 0.2906952202320099\n",
            "Finished epoch 81, latest loss 0.31873854994773865\n",
            "Finished epoch 82, latest loss 0.2804332673549652\n",
            "Finished epoch 83, latest loss 0.2875422537326813\n",
            "Finished epoch 84, latest loss 0.29769209027290344\n",
            "Finished epoch 85, latest loss 0.28917714953422546\n",
            "Finished epoch 86, latest loss 0.28383803367614746\n",
            "Finished epoch 87, latest loss 0.28200763463974\n",
            "Finished epoch 88, latest loss 0.27211084961891174\n",
            "Finished epoch 89, latest loss 0.27413707971572876\n",
            "Finished epoch 90, latest loss 0.2774695158004761\n",
            "Finished epoch 91, latest loss 0.28223806619644165\n",
            "Finished epoch 92, latest loss 0.27706485986709595\n",
            "Finished epoch 93, latest loss 0.26177701354026794\n",
            "Finished epoch 94, latest loss 0.266874223947525\n",
            "Finished epoch 95, latest loss 0.2557726800441742\n",
            "Finished epoch 96, latest loss 0.26282018423080444\n",
            "Finished epoch 97, latest loss 0.2530171275138855\n",
            "Finished epoch 98, latest loss 0.2539905607700348\n",
            "Finished epoch 99, latest loss 0.2511898875236511\n"
          ]
        }
      ]
    },
    {
      "cell_type": "code",
      "source": [
        "i = 5\n",
        "X_sample = X[i:i+1]\n",
        "y_pred = model(X_sample)\n",
        "print(f\"{X_sample[0]} -> {y_pred[0]}\")"
      ],
      "metadata": {
        "colab": {
          "base_uri": "https://localhost:8080/"
        },
        "id": "qjSpOh8MpQXj",
        "outputId": "d72de300-1096-4900-a112-63b751c05f70"
      },
      "execution_count": 14,
      "outputs": [
        {
          "output_type": "stream",
          "name": "stdout",
          "text": [
            "tensor([  5.0000, 116.0000,  74.0000,   0.0000,   0.0000,  25.6000,   0.2010,\n",
            "         30.0000]) -> tensor([0.2321], grad_fn=<SelectBackward0>)\n"
          ]
        }
      ]
    },
    {
      "cell_type": "code",
      "source": [
        "i = 5\n",
        "X_sample = X[i:i+1]\n",
        "model.eval()\n",
        "with torch.no_grad():\n",
        "  y_pred = model(X_sample)\n",
        "print(f\"{X_sample[0]} -> {y_pred[0]}\")\n",
        "accuracy = (y_pred.round()==Y).float().mean()\n",
        "print(f\"Accuracy {accuracy}\")"
      ],
      "metadata": {
        "colab": {
          "base_uri": "https://localhost:8080/"
        },
        "id": "9bdapkohtSiU",
        "outputId": "98c6685e-bf47-4f33-d25f-87c11df52af9"
      },
      "execution_count": 17,
      "outputs": [
        {
          "output_type": "stream",
          "name": "stdout",
          "text": [
            "tensor([  5.0000, 116.0000,  74.0000,   0.0000,   0.0000,  25.6000,   0.2010,\n",
            "         30.0000]) -> tensor([0.2321])\n",
            "Accuracy 0.6510416865348816\n"
          ]
        }
      ]
    }
  ]
}